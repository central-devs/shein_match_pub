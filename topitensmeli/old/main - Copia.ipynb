{
 "cells": [
  {
   "cell_type": "code",
   "execution_count": 1,
   "metadata": {},
   "outputs": [
    {
     "name": "stdout",
     "output_type": "stream",
     "text": [
      "download meli\n",
      "download shopee\n"
     ]
    }
   ],
   "source": [
    "from data.cods.google import get_dfs\n",
    "import pandas as pd\n",
    "lista_dfs = get_dfs('../topitensmeli/data/base/client_secret.json',\"18c4-6Oxc89l0qgxWfezAogDdphoMKt_ST0LbbplB1DA\",df=pd.read_csv('shopeeitens.csv',encoding='utf-8-sig'),dfmeli=pd.read_csv('meliitens.csv',encoding=\"utf-8-sig\"))"
   ]
  },
  {
   "attachments": {},
   "cell_type": "markdown",
   "metadata": {},
   "source": [
    "### Classe para tratar df"
   ]
  },
  {
   "cell_type": "code",
   "execution_count": 2,
   "metadata": {},
   "outputs": [
    {
     "name": "stderr",
     "output_type": "stream",
     "text": [
      "[nltk_data] Downloading package stopwords to\n",
      "[nltk_data]     C:\\Users\\luiz.tavares\\AppData\\Roaming\\nltk_data...\n",
      "[nltk_data]   Package stopwords is already up-to-date!\n"
     ]
    },
    {
     "name": "stdout",
     "output_type": "stream",
     "text": [
      "Validando strings\n"
     ]
    },
    {
     "name": "stderr",
     "output_type": "stream",
     "text": [
      "  0%|          | 196/41346 [00:04<22:13, 30.87it/s]"
     ]
    }
   ],
   "source": [
    "from data.cods.df_tra.checker import *\n",
    "\n",
    "for df in lista_dfs:\n",
    "    # tratando dfs dentro da lista\n",
    "    df = df_checker(df).response()\n",
    "    df.to_csv(\"ts.csv\")\n",
    "    # gerando bucket\n",
    "    df['bucket'] = df[\"Promo Price\"].astype(float).apply(lambda x: buckt(x))\n"
   ]
  },
  {
   "attachments": {},
   "cell_type": "markdown",
   "metadata": {},
   "source": [
    "### fuzzy"
   ]
  },
  {
   "attachments": {},
   "cell_type": "markdown",
   "metadata": {},
   "source": [
    "tem um limbo na analise das medidas:\n",
    "\n",
    "de 0 até 0.5 temos menor prioridade\n",
    "\n",
    "limbo de >0.5 a <0.9\n",
    "\n",
    "de >0.9 até 1 maior prioridade \n"
   ]
  },
  {
   "cell_type": "code",
   "execution_count": null,
   "metadata": {},
   "outputs": [],
   "source": [
    "# s1='bíblia sagrada mig meg - capa dura meg : nova tradução linguagem hoje ( ntlh ) , sociedade bíblica brasil . editora sociedade bíblica brasil , capa dura português , 2022'\n",
    "# s2='bíblia fé '\n",
    "# from fuzzywuzzy import fuzz\n",
    "# print(fuzz.token_sort_ratio(s1,s2))"
   ]
  },
  {
   "cell_type": "code",
   "execution_count": null,
   "metadata": {},
   "outputs": [],
   "source": [
    "from data.cods.master import process\n",
    "from fuzzywuzzy import fuzz\n",
    "from tqdm import tqdm\n",
    "import pandas as pd\n",
    "from data.cods.score import *\n",
    "from data.cods.bucket import *\n",
    "\n",
    "df_final,dic_erro=process(lista_dfs).response_cod()\n"
   ]
  },
  {
   "cell_type": "code",
   "execution_count": null,
   "metadata": {},
   "outputs": [],
   "source": [
    "\n",
    "listaa=[]\n",
    "lista=[]\n",
    "linha={}\n",
    "df_eita=pd.DataFrame(columns=['Link', 'Item Title', 'Shopname', 'L2 Category', 'ADO', 'ADGMV',\n",
    "       'Promo Price', 'Cluster', 'L1 Category', 'Shopee ID', 'Is MS',\n",
    "       'Meli id', 'nome ajustado', 'type_class', 'metric', 'value', 'bucket'])\n",
    "for key in dic_erro:\n",
    "\n",
    "    lin=lista_dfs[0].loc[lista_dfs[0]['Meli id']==key]\n",
    "    df_eita = pd.concat([df_eita,lin])\n",
    "\n",
    "df_eita.to_csv(\"error.csv\",index=False)"
   ]
  },
  {
   "cell_type": "code",
   "execution_count": null,
   "metadata": {},
   "outputs": [],
   "source": [
    "display(df_return)\n",
    "df_return.to_csv(\"teste_retorno.csv\",index=False,encoding=\"utf-8-sig\")"
   ]
  },
  {
   "cell_type": "code",
   "execution_count": null,
   "metadata": {},
   "outputs": [],
   "source": [
    "print(dic_erro)\n",
    "print(len(dic_erro))"
   ]
  },
  {
   "cell_type": "code",
   "execution_count": null,
   "metadata": {},
   "outputs": [],
   "source": []
  },
  {
   "cell_type": "code",
   "execution_count": null,
   "metadata": {},
   "outputs": [],
   "source": []
  }
 ],
 "metadata": {
  "kernelspec": {
   "display_name": "Python 3",
   "language": "python",
   "name": "python3"
  },
  "language_info": {
   "codemirror_mode": {
    "name": "ipython",
    "version": 3
   },
   "file_extension": ".py",
   "mimetype": "text/x-python",
   "name": "python",
   "nbconvert_exporter": "python",
   "pygments_lexer": "ipython3",
   "version": "3.10.11"
  },
  "orig_nbformat": 4,
  "vscode": {
   "interpreter": {
    "hash": "310141708a7a8770772e14bc6d9482dba18df5be6e1577cc190d4700aed09911"
   }
  }
 },
 "nbformat": 4,
 "nbformat_minor": 2
}
